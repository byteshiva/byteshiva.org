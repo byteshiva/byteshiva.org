{
 "cells": [
  {
   "cell_type": "markdown",
   "metadata": {},
   "source": [
    "# Import from pyvideo.org \n",
    "\n",
    "Convert presentations hosted at pyvideo.org into a JSON doc suitable for importing into the `Presentation` with `manage.py loaddata`. Pyvideo has machine readable data at https://github.com/pyvideo/data/, so this is fairly easy to do. There's no single entry point for all talks by a given author, but it's easy enough just to spin through everything and find the right talks. But for speed this reads from a local checkout. Make this with `hub clone --depth=1 pyvideo/data pyvideo-data` also for speed."
   ]
  },
  {
   "cell_type": "code",
   "execution_count": 35,
   "metadata": {},
   "outputs": [],
   "source": [
    "import json\n",
    "import time\n",
    "import datetime\n",
    "import pathlib\n",
    "from django.utils.text import slugify"
   ]
  },
  {
   "cell_type": "code",
   "execution_count": 41,
   "metadata": {},
   "outputs": [],
   "source": [
    "SPEAKER = 'Jacob Kaplan-Moss'\n",
    "DATA_DIR = pathlib.Path(\"/mnt/c/Users/jacob/c/pyvideo-data\")\n",
    "\n",
    "talks = []\n",
    "for conference_dir in DATA_DIR.iterdir():\n",
    "    if conference_dir.is_dir() and not conference_dir.name.startswith('.'):\n",
    "        for vid_file in conference_dir.glob('videos/*.json'):\n",
    "            vid_data = json.loads(vid_file.read_text())\n",
    "            vid_data[\"_slug\"] = vid_file.stem\n",
    "            if SPEAKER in vid_data.get('speakers', []):\n",
    "                vid_data['_conference'] = json.loads((conference_dir/\"category.json\").read_text())\n",
    "                talks.append(vid_data)"
   ]
  },
  {
   "cell_type": "code",
   "execution_count": 42,
   "metadata": {},
   "outputs": [
    {
     "data": {
      "text/plain": [
       "{'description': 'Django: Under The Hood: http://djangounderthehood.com/\\n\\nDjango: Under The Hood is an annual Django conference for experienced Django developers. Come and learn about the internals of Django, and help to shape its future.',\n",
       " 'recorded': '2016-11-03',\n",
       " 'speakers': ['Tim Graham', 'Jacob Kaplan-Moss'],\n",
       " 'thumbnail_url': 'https://i.ytimg.com/vi/MgpMh2aXzWM/hqdefault.jpg',\n",
       " 'title': 'Tim Graham & Jacob Kaplan-Moss about Intro to sprints at Django: Under The Hood 2016',\n",
       " 'videos': [{'type': 'youtube',\n",
       "   'url': 'https://www.youtube.com/watch?v=MgpMh2aXzWM'}],\n",
       " '_slug': 'tim-graham-jacob-kaplan-moss-about-intro-to-sprints-at-django-under-the-hood-2016',\n",
       " '_conference': {'title': 'Django Under the Hood 2016'}}"
      ]
     },
     "execution_count": 42,
     "metadata": {},
     "output_type": "execute_result"
    }
   ],
   "source": [
    "talks[0]"
   ]
  },
  {
   "cell_type": "code",
   "execution_count": 48,
   "metadata": {},
   "outputs": [],
   "source": [
    "fixtures = []\n",
    "for i, talk in enumerate(talks):\n",
    "    fixtures.append({\n",
    "        \"pk\": i + 1,\n",
    "        \"model\": \"speaking_portfolio.Presentation\",\n",
    "        \"fields\": {\n",
    "            \"title\": talk[\"title\"],\n",
    "            \"slug\": talk[\"_slug\"][:50].rstrip('-'),\n",
    "            \"date\": talk[\"recorded\"],\n",
    "            \"description\": talk[\"description\"],\n",
    "            \"conference_title\": talk[\"_conference\"][\"title\"],\n",
    "            \"video_link\": talk[\"videos\"][0][\"url\"],\n",
    "        }\n",
    "    })"
   ]
  },
  {
   "cell_type": "code",
   "execution_count": 49,
   "metadata": {},
   "outputs": [
    {
     "data": {
      "text/plain": [
       "{'pk': 1,\n",
       " 'model': 'speaking_portfolio.Presentation',\n",
       " 'fields': {'title': 'Tim Graham & Jacob Kaplan-Moss about Intro to sprints at Django: Under The Hood 2016',\n",
       "  'slug': 'tim-graham-jacob-kaplan-moss-about-intro-to-sprint',\n",
       "  'date': '2016-11-03',\n",
       "  'description': 'Django: Under The Hood: http://djangounderthehood.com/\\n\\nDjango: Under The Hood is an annual Django conference for experienced Django developers. Come and learn about the internals of Django, and help to shape its future.',\n",
       "  'conference_title': 'Django Under the Hood 2016',\n",
       "  'video_link': 'https://www.youtube.com/watch?v=MgpMh2aXzWM'}}"
      ]
     },
     "execution_count": 49,
     "metadata": {},
     "output_type": "execute_result"
    }
   ],
   "source": [
    "fixtures[0]"
   ]
  },
  {
   "cell_type": "code",
   "execution_count": 50,
   "metadata": {},
   "outputs": [],
   "source": [
    "with open('/tmp/speaking.json', 'w') as fp:\n",
    "    json.dump(fixtures, fp, indent=2)"
   ]
  }
 ],
 "metadata": {
  "kernelspec": {
   "display_name": "Python 3",
   "language": "python",
   "name": "python3"
  },
  "language_info": {
   "codemirror_mode": {
    "name": "ipython",
    "version": 3
   },
   "file_extension": ".py",
   "mimetype": "text/x-python",
   "name": "python",
   "nbconvert_exporter": "python",
   "pygments_lexer": "ipython3",
   "version": "3.6.4"
  }
 },
 "nbformat": 4,
 "nbformat_minor": 2
}
