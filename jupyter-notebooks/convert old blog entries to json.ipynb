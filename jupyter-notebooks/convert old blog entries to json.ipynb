{
 "cells": [
  {
   "cell_type": "markdown",
   "metadata": {},
   "source": [
    "# Convert old blog posts into JSON\n",
    "\n",
    "Convert my old blog posts, written in reST and published using Pelican, into a JSON format suitable for importing with `manage.py import_blog_json`. See [Simon's writeup](https://simonwillison.net/2017/Nov/4/import-refs/) for info on the technique."
   ]
  },
  {
   "cell_type": "markdown",
   "metadata": {},
   "source": [
    "## Handle custom directives\n",
    "\n",
    "I used a bunch of custom reST directives on my previous blog; All this code exists to convert them to HTML for storage."
   ]
  },
  {
   "cell_type": "markdown",
   "metadata": {},
   "source": [
    "#### Tweet directive to HTML\n",
    "\n",
    "Convert `.. tweet::` to the relevent embed html"
   ]
  },
  {
   "cell_type": "code",
   "execution_count": 1,
   "metadata": {},
   "outputs": [],
   "source": [
    "from docutils import nodes\n",
    "from docutils.parsers import rst\n",
    "from docutils.parsers.rst import directives\n",
    "\n",
    "# FIXME: the <script> tag shoud be in the extra_head so it's not repeated multiple times\n",
    "\n",
    "TWEET_TEMPLATE = '''\n",
    "    <blockquote {args}>\n",
    "        <a href=\"{url}\">{url}</a>\n",
    "    </blockquote>\n",
    "    <script async src=\"//platform.twitter.com/widgets.js\" charset=\"utf-8\"></script>\n",
    "'''\n",
    "\n",
    "class TweetDirective(rst.Directive):\n",
    "    name = 'tweet'\n",
    "    has_content = False\n",
    "    required_arguments = 1\n",
    "    optional_arguments = 0\n",
    "    final_argument_whitespace = False\n",
    "    option_spec = {\n",
    "        'align': lambda arg: directives.choice(arg, ('left', 'center', 'right')),\n",
    "        'conversation': directives.flag,\n",
    "        'class': directives.class_option\n",
    "    }\n",
    "\n",
    "    def run(self):\n",
    "        args = [\n",
    "            'class=\"%s\"' % self.options.get('class', 'twitter-tweet'),\n",
    "            'align=\"%s\"' % self.options.get('align', 'center')\n",
    "        ]\n",
    "        if not self.options.get('conversation', False):\n",
    "            args.append('data-conversation=none')\n",
    "        t = TWEET_TEMPLATE.format(args=' '.join(args), url=self.arguments[0])\n",
    "        return [nodes.raw('', t, format='html')]\n",
    "\n",
    "directives.register_directive('tweet', TweetDirective)"
   ]
  },
  {
   "cell_type": "markdown",
   "metadata": {},
   "source": [
    "#### Raw HTML directive\n",
    "\n",
    "Sphinx supports a `.. html` directive, which isn't in core Docutils. However, Docutils does have a `.. raw:: html` directive, so I can emulate `.. html` with a simple subclass of the raw directive:"
   ]
  },
  {
   "cell_type": "code",
   "execution_count": 2,
   "metadata": {},
   "outputs": [],
   "source": [
    "from docutils.parsers.rst.directives.misc import Raw\n",
    "\n",
    "class HTMLDirective(Raw):\n",
    "    required_arguments = 0\n",
    "    \n",
    "    def run(self):\n",
    "        self.arguments = ['html']\n",
    "        return super().run()\n",
    "\n",
    "directives.register_directive('html', HTMLDirective)"
   ]
  },
  {
   "cell_type": "markdown",
   "metadata": {},
   "source": [
    "#### Ignore the \"comment\" directive\n",
    "\n",
    "My old blog had a custom comment directive for rending comments. I'm not porting those over, so just ignore that directive."
   ]
  },
  {
   "cell_type": "code",
   "execution_count": 3,
   "metadata": {},
   "outputs": [],
   "source": [
    "class IgnoredDirective(rst.Directive):\n",
    "    has_content = True\n",
    "    def run(self):\n",
    "        return []\n",
    "\n",
    "directives.register_directive(\"comment\", IgnoredDirective)"
   ]
  },
  {
   "cell_type": "markdown",
   "metadata": {},
   "source": [
    "## Convert entries to JSON\n",
    "\n",
    "OK, special rest handling complete; let's do this thing."
   ]
  },
  {
   "cell_type": "code",
   "execution_count": 4,
   "metadata": {},
   "outputs": [],
   "source": [
    "import pathlib\n",
    "import json\n",
    "import docutils.core"
   ]
  },
  {
   "cell_type": "code",
   "execution_count": 11,
   "metadata": {},
   "outputs": [],
   "source": [
    "OLD_ENTRIES_DIR = pathlib.Path('~/c/jacobian.org/content').expanduser()"
   ]
  },
  {
   "cell_type": "markdown",
   "metadata": {},
   "source": [
    "My old blog entries store metadata (slug, date, etc) as reST frontmatter, which show up in a \"docinfo\" element in the original source. This converts that into a dict:"
   ]
  },
  {
   "cell_type": "code",
   "execution_count": 6,
   "metadata": {},
   "outputs": [],
   "source": [
    "def extract_meta_from_docinfo(doctree):\n",
    "    try:\n",
    "        docinfo = next(c for c in doctree.children if type(c) == docutils.nodes.docinfo)\n",
    "    except StopIteration:\n",
    "        return {}\n",
    "    \n",
    "    meta = {}\n",
    "    \n",
    "    # There are two ways a piece of metadata show up in the docinfo:\n",
    "    #     (a) as a plain field : <date>2016...</date>\n",
    "    #     (b) as a nested thing: <field><name>foo</name><value>bar</value></field>\n",
    "    # this supports both\n",
    "    for c in docinfo.children:\n",
    "        if c.tagname == 'field':\n",
    "            meta[c.children[0].astext()] = c.children[1].astext()\n",
    "        else:\n",
    "            meta[c.tagname] = c.astext()\n",
    "    return meta"
   ]
  },
  {
   "cell_type": "markdown",
   "metadata": {},
   "source": [
    "Convert entries:"
   ]
  },
  {
   "cell_type": "code",
   "execution_count": 13,
   "metadata": {},
   "outputs": [],
   "source": [
    "entries = []\n",
    "\n",
    "for entry_path in OLD_ENTRIES_DIR.glob('**/*.rst'):\n",
    "    if not entry_path.parent.name.isdigit():\n",
    "        continue\n",
    "    \n",
    "    text = entry_path.read_text()\n",
    "    meta = extract_meta_from_docinfo(docutils.core.publish_doctree(source=text))\n",
    "    parts = docutils.core.publish_parts(\n",
    "        source=text, \n",
    "        writer_name='html', \n",
    "        settings_overrides={'initial_header_level': 3},\n",
    "    )\n",
    "    entries.append({\n",
    "        'type': 'entry',\n",
    "        'body': parts['body'],\n",
    "        'title': parts['title'],\n",
    "        'slug': meta['slug'],\n",
    "        'datetime': meta['date'],\n",
    "        'tags': [],\n",
    "        'import_ref': 'old-blog:' + str(entry_path.relative_to(OLD_ENTRIES_DIR)),\n",
    "        'source': text,\n",
    "        'source_type': 'reStructuredText'\n",
    "    })"
   ]
  },
  {
   "cell_type": "markdown",
   "metadata": {},
   "source": [
    "And save to JSON to be imported with `manage.py import_blog_json`:"
   ]
  },
  {
   "cell_type": "code",
   "execution_count": 14,
   "metadata": {},
   "outputs": [],
   "source": [
    "with open('/tmp/old-blog.json', 'w') as fp:\n",
    "    json.dump(entries, fp)"
   ]
  }
 ],
 "metadata": {
  "kernelspec": {
   "display_name": "Python 3",
   "language": "python",
   "name": "python3"
  },
  "language_info": {
   "codemirror_mode": {
    "name": "ipython",
    "version": 3
   },
   "file_extension": ".py",
   "mimetype": "text/x-python",
   "name": "python",
   "nbconvert_exporter": "python",
   "pygments_lexer": "ipython3",
   "version": "3.6.4"
  }
 },
 "nbformat": 4,
 "nbformat_minor": 2
}
