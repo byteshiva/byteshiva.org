{
 "cells": [
  {
   "cell_type": "markdown",
   "metadata": {},
   "source": [
    "# Convert Pinboard bookmarks\n",
    "\n",
    "Convert a Pinboard bookmarks export (download from https://pinboard.in/settings/backup as JSON) into something ready to be imported with `manage.py import_blog_json`.\n",
    "\n",
    "`manage.py import_pinboard` imports new bookmarks, but for the initial import the backup file is far more efficiant (and doesn't risk getting rate-limited by Pinboard)."
   ]
  },
  {
   "cell_type": "code",
   "execution_count": 16,
   "metadata": {},
   "outputs": [],
   "source": [
    "import json\n",
    "from django.utils.text import slugify\n",
    "\n",
    "BOOKMARKS_FILENAME = '/mnt/c/Users/jacob/Downloads/pinboard_export'"
   ]
  },
  {
   "cell_type": "code",
   "execution_count": 17,
   "metadata": {},
   "outputs": [],
   "source": [
    "with open(BOOKMARKS_FILENAME) as fp:\n",
    "    bookmarks = json.load(fp)"
   ]
  },
  {
   "cell_type": "code",
   "execution_count": 18,
   "metadata": {},
   "outputs": [
    {
     "data": {
      "text/plain": [
       "{'href': 'https://pmags.com/backcountry-ski-rigs',\n",
       " 'description': 'Backcountry ski rigs | PMags.com',\n",
       " 'extended': '',\n",
       " 'meta': '8a689d88ce14580a7e2f5fbb8d174647',\n",
       " 'hash': 'c501634bb44a92d9baf9da794d878985',\n",
       " 'time': '2018-10-17T18:28:22Z',\n",
       " 'shared': 'yes',\n",
       " 'toread': 'no',\n",
       " 'tags': 'ski backcountry wilderness'}"
      ]
     },
     "execution_count": 18,
     "metadata": {},
     "output_type": "execute_result"
    }
   ],
   "source": [
    "bookmarks[0]"
   ]
  },
  {
   "cell_type": "code",
   "execution_count": 19,
   "metadata": {},
   "outputs": [],
   "source": [
    "blogmarks = []\n",
    "for b in bookmarks:\n",
    "    if b['shared'] != 'yes' or b['toread'] != 'no':\n",
    "        continue\n",
    "        \n",
    "    blogmarks.append({\n",
    "        'type': 'blogmark',\n",
    "        'slug': slugify(b['description']),\n",
    "        'link_url': b['href'],\n",
    "        'link_title': b['description'],\n",
    "        'commentary': b['extended'],\n",
    "        'datetime': b['time'],\n",
    "        'import_ref': 'pinboard:' + b['hash'],\n",
    "        'pinboard_meta': b['meta'],\n",
    "        'tags': b['tags'].split(),\n",
    "    })"
   ]
  },
  {
   "cell_type": "code",
   "execution_count": 20,
   "metadata": {},
   "outputs": [],
   "source": [
    "with open('/tmp/pinboard.json', 'w') as fp:\n",
    "    json.dump(blogmarks, fp)"
   ]
  },
  {
   "cell_type": "code",
   "execution_count": null,
   "metadata": {},
   "outputs": [],
   "source": []
  }
 ],
 "metadata": {
  "kernelspec": {
   "display_name": "Python 3",
   "language": "python",
   "name": "python3"
  },
  "language_info": {
   "codemirror_mode": {
    "name": "ipython",
    "version": 3
   },
   "file_extension": ".py",
   "mimetype": "text/x-python",
   "name": "python",
   "nbconvert_exporter": "python",
   "pygments_lexer": "ipython3",
   "version": "3.6.4"
  }
 },
 "nbformat": 4,
 "nbformat_minor": 2
}
